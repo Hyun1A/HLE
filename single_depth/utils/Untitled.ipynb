{
 "cells": [
  {
   "cell_type": "code",
   "execution_count": 1,
   "id": "3ee977e1-f4f7-41f9-8a29-3c4a85bf3ce7",
   "metadata": {},
   "outputs": [],
   "source": [
    "a = [[1,2], [2,2], [3,3], [1,3], [2,4]]"
   ]
  },
  {
   "cell_type": "code",
   "execution_count": 1,
   "id": "f5252a34-c1bd-4e09-889c-7262c9bd289e",
   "metadata": {},
   "outputs": [],
   "source": [
    "import torch"
   ]
  },
  {
   "cell_type": "code",
   "execution_count": 11,
   "id": "7fc4bbda-1f82-45db-ac1d-c701f3ade9f0",
   "metadata": {},
   "outputs": [
    {
     "name": "stdout",
     "output_type": "stream",
     "text": [
      "[tensor([]), tensor([3., 4.]), tensor([]), tensor([])]\n",
      "tensor([3., 4.])\n"
     ]
    }
   ],
   "source": [
    "depth = 3\n",
    "hierarchy = 1\n",
    "\n",
    "a = [torch.tensor([]) for h in range(depth+1)]\n",
    "\n",
    "b = torch.tensor([3., 4.])\n",
    "\n",
    "a[hierarchy] = torch.cat([a[hierarchy], b], dim=0)\n",
    "\n",
    "print(a)\n",
    "print(b)\n"
   ]
  },
  {
   "cell_type": "code",
   "execution_count": 12,
   "id": "962ae319-0af0-40b5-a38c-9323f8c4ad57",
   "metadata": {},
   "outputs": [],
   "source": [
    "a = torch.tensor([[1., 2., 3., 4., 5., 6.,]])"
   ]
  },
  {
   "cell_type": "code",
   "execution_count": 7,
   "id": "5376a6d4-43f3-461c-a3cc-ca5205c02e4b",
   "metadata": {},
   "outputs": [
    {
     "name": "stdout",
     "output_type": "stream",
     "text": [
      "tensor([6.])\n",
      "tensor([5])\n"
     ]
    }
   ],
   "source": [
    "p, a = a.max(dim=1)\n",
    "print(p)\n",
    "print(a)"
   ]
  },
  {
   "cell_type": "code",
   "execution_count": 5,
   "id": "055434d2-45ac-4da8-bcf4-fbd79968016b",
   "metadata": {},
   "outputs": [
    {
     "name": "stdout",
     "output_type": "stream",
     "text": [
      "[1, 2, 3, 1, 2]\n",
      "[2, 2, 3, 3, 4]\n"
     ]
    }
   ],
   "source": [
    "l = []\n",
    "m = []\n",
    "for d in a:\n",
    "    l.append(d[0])\n",
    "    m.append(d[1])\n",
    "    \n",
    "print(l)\n",
    "print(m)\n"
   ]
  },
  {
   "cell_type": "code",
   "execution_count": 8,
   "id": "a64ffa87-dad7-4553-b272-0ef0b6c77df7",
   "metadata": {},
   "outputs": [
    {
     "data": {
      "text/plain": [
       "0"
      ]
     },
     "execution_count": 8,
     "metadata": {},
     "output_type": "execute_result"
    }
   ],
   "source": [
    "len(torch.tensor([]))"
   ]
  },
  {
   "cell_type": "code",
   "execution_count": 14,
   "id": "203de01c-bb94-4968-9212-3e4541d85e74",
   "metadata": {},
   "outputs": [
    {
     "name": "stdout",
     "output_type": "stream",
     "text": [
      "tensor([1., 1., 1., 0., 1., 0.])\n"
     ]
    }
   ],
   "source": [
    "a = torch.zeros(6)\n",
    "b = torch.tensor([1,2,1,4,2,0])\n",
    "\n",
    "a[b] += 1\n",
    "print(a)"
   ]
  },
  {
   "cell_type": "code",
   "execution_count": 9,
   "id": "6211bc75-9c2a-49d2-a055-9e8af2fe1690",
   "metadata": {},
   "outputs": [
    {
     "name": "stdout",
     "output_type": "stream",
     "text": [
      "tensor([0, 1, 2, 3, 4, 5, 6, 7, 8, 9])\n",
      "tensor([ 0,  1,  4,  9, 16, 25, 36, 49, 64, 81])\n",
      "tensor([[ 2,  3,  4],\n",
      "        [ 5,  6,  7],\n",
      "        [ 8,  9, 10]])\n",
      "tensor([[3],\n",
      "        [6],\n",
      "        [9]])\n"
     ]
    }
   ],
   "source": [
    "import torch\n",
    "\n",
    "a = torch.arange(10)\n",
    "print(a)\n",
    "\n",
    "a[[2,3,4]]\n",
    "print(a**2)\n",
    "\n",
    "\n",
    "b = torch.tensor([[2,3,4], [5,6,7], [8,9,10]])\n",
    "print(b)\n",
    "print(b[:, torch.tensor([1])])"
   ]
  }
 ],
 "metadata": {
  "kernelspec": {
   "display_name": "Python 3 (ipykernel)",
   "language": "python",
   "name": "python3"
  },
  "language_info": {
   "codemirror_mode": {
    "name": "ipython",
    "version": 3
   },
   "file_extension": ".py",
   "mimetype": "text/x-python",
   "name": "python",
   "nbconvert_exporter": "python",
   "pygments_lexer": "ipython3",
   "version": "3.8.10"
  }
 },
 "nbformat": 4,
 "nbformat_minor": 5
}
